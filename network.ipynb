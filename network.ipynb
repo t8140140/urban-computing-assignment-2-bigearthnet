{
 "cells": [
  {
   "cell_type": "code",
   "execution_count": 95,
   "metadata": {},
   "outputs": [
    {
     "name": "stderr",
     "output_type": "stream",
     "text": [
      "2023-12-07 19:59:01.281203: I tensorflow/core/platform/cpu_feature_guard.cc:182] This TensorFlow binary is optimized to use available CPU instructions in performance-critical operations.\n",
      "To enable the following instructions: SSE4.1 SSE4.2 AVX AVX2 FMA, in other operations, rebuild TensorFlow with the appropriate compiler flags.\n"
     ]
    }
   ],
   "source": [
    "import numpy as np\n",
    "import matplotlib.pyplot as plt\n",
    "import xarray as rx\n",
    "import rioxarray as rix\n",
    "import tensorflow as tf"
   ]
  },
  {
   "cell_type": "code",
   "execution_count": 85,
   "metadata": {},
   "outputs": [],
   "source": [
    "# JUST FOR PLOTTING\n",
    "def norm_diff(x,y):\n",
    "    return (x-y)/(x+y)\n",
    "\n",
    "child = \"S2A_MSIL2A_20170701T093031_19_10\"\n",
    "\n",
    "def plot_folder(folder,rgb=True):\n",
    "    parent = \"data/\"\n",
    "    if rgb:\n",
    "        plt.figure(figsize=(6, 6))\n",
    "        blue = rix.open_rasterio(parent+f\"{folder}/{folder}_B02.tif\")\n",
    "        green = rix.open_rasterio(parent+f\"{folder}/{folder}_B03.tif\")\n",
    "        red = rix.open_rasterio(parent+f\"{folder}/{folder}_B04.tif\")\n",
    "        print(blue.attrs)\n",
    "        rgb_img = rx.concat([red, green, blue], dim='band')\n",
    "        # rgb_img = (red+green+blue).squeeze()\n",
    "        rgb_img.plot.imshow(robust=True)\n",
    "        plt.title(\"RGB image\")\n",
    "        plt.show()\n",
    "\n",
    "    elif not rgb:\n",
    "        plt.figure(figsize=(6, 6))\n",
    "        nir = rix.open_rasterio(parent+f\"{folder}/{folder}_B8A.tif\")\n",
    "        swir = rix.open_rasterio(parent+f\"{folder}/{folder}_B11.tif\")\n",
    "        avg_ndmi = np.mean(norm_diff(nir.values,swir.values).squeeze())\n",
    "        ndmi_img = norm_diff(nir,swir).squeeze()\n",
    "        print(avg_ndmi)\n",
    "        # plt.imshow(ndmi)\n",
    "        # plt.colorbar(label='Pixel Values')\n",
    "        # plt.title('GeoTIFF Image')\n",
    "        # plt.show()\n",
    "        ndmi_img.plot.imshow(robust=True)\n",
    "        plt.title(f\"NDMI image. Average NDMI:{avg_ndmi:.2f}\")\n",
    "        plt.show()\n",
    "\n",
    "# plot_folder(child,rgb=True)\n",
    "# plot_folder(child,rgb=False)\n"
   ]
  },
  {
   "cell_type": "code",
   "execution_count": 76,
   "metadata": {},
   "outputs": [
    {
     "name": "stdout",
     "output_type": "stream",
     "text": [
      "['S2A_MSIL2A_20170701T093031_19_10' 'S2B_MSIL2A_20170801T095029_4_23'\n",
      " 'S2B_MSIL2A_20170906T101019_56_80' ... 'S2B_MSIL2A_20170801T095029_11_32'\n",
      " 'S2B_MSIL2A_20170906T101020_78_48' 'S2B_MSIL2A_20170802T092029_10_37']\n",
      "3324\n"
     ]
    }
   ],
   "source": [
    "import os\n",
    "\n",
    "def list_folders(directory):\n",
    "    folders = np.array([d for d in os.listdir(directory) if os.path.isdir(os.path.join(directory, d))])\n",
    "    return folders\n",
    "all_folders = list_folders(\"data/\")\n",
    "print(all_folders)\n",
    "print(len(all_folders))\n"
   ]
  },
  {
   "cell_type": "code",
   "execution_count": 77,
   "metadata": {},
   "outputs": [],
   "source": [
    "\n",
    "# Read GeoTIFF file\n",
    "def norm_diff(x,y):\n",
    "    try:\n",
    "        return (x-y)/(x+y)\n",
    "    except Exception as e:\n",
    "        print(e)\n",
    "        return None\n",
    "\n",
    "# testchild = \"S2A_MSIL2A_20171101T094131_1_38\"\n",
    "\n",
    "\n",
    "def get_input_label(folder):\n",
    "    try:\n",
    "        base_path=f\"data/{folder}/{folder}\"\n",
    "\n",
    "        blue = rix.open_rasterio(f\"{base_path}_B02.tif\")\n",
    "        green = rix.open_rasterio(f\"{base_path}_B03.tif\")\n",
    "        red = rix.open_rasterio(f\"{base_path}_B04.tif\")     \n",
    "\n",
    "        rgb = np.concatenate([red.values,green.values,blue.values], axis=0)\n",
    "\n",
    "        # print(rgb)\n",
    "        nir = rix.open_rasterio(f\"{base_path}_B8A.tif\")\n",
    "        swir = rix.open_rasterio(f\"{base_path}_B11.tif\")\n",
    "\n",
    "        ndmi = norm_diff(nir.values.squeeze(),swir.values.squeeze())\n",
    "        label = np.mean(ndmi)\n",
    "        \n",
    "        return rgb, label\n",
    "    except Exception as e:\n",
    "        print(e)\n",
    "        return None, None"
   ]
  },
  {
   "cell_type": "code",
   "execution_count": 81,
   "metadata": {},
   "outputs": [
    {
     "name": "stderr",
     "output_type": "stream",
     "text": [
      "/var/folders/68/x8klff196fl8_dk1n2t0qbtc0000gn/T/ipykernel_8267/3558035866.py:4: RuntimeWarning: invalid value encountered in divide\n",
      "  return (x-y)/(x+y)\n",
      "/var/folders/68/x8klff196fl8_dk1n2t0qbtc0000gn/T/ipykernel_8267/3558035866.py:4: RuntimeWarning: invalid value encountered in divide\n",
      "  return (x-y)/(x+y)\n"
     ]
    },
    {
     "name": "stdout",
     "output_type": "stream",
     "text": [
      "data/S2B_MSIL2A_20170802T092029_18_24/S2B_MSIL2A_20170802T092029_18_24_B03.tif: No such file or directory\n"
     ]
    },
    {
     "name": "stderr",
     "output_type": "stream",
     "text": [
      "/var/folders/68/x8klff196fl8_dk1n2t0qbtc0000gn/T/ipykernel_8267/3558035866.py:4: RuntimeWarning: invalid value encountered in divide\n",
      "  return (x-y)/(x+y)\n",
      "/var/folders/68/x8klff196fl8_dk1n2t0qbtc0000gn/T/ipykernel_8267/3558035866.py:4: RuntimeWarning: invalid value encountered in divide\n",
      "  return (x-y)/(x+y)\n"
     ]
    },
    {
     "name": "stdout",
     "output_type": "stream",
     "text": [
      "data/S2A_MSIL2A_20171121T112351_11_54/S2A_MSIL2A_20171121T112351_11_54_B04.tif: No such file or directory\n"
     ]
    },
    {
     "name": "stderr",
     "output_type": "stream",
     "text": [
      "/var/folders/68/x8klff196fl8_dk1n2t0qbtc0000gn/T/ipykernel_8267/3558035866.py:4: RuntimeWarning: invalid value encountered in divide\n",
      "  return (x-y)/(x+y)\n",
      "/var/folders/68/x8klff196fl8_dk1n2t0qbtc0000gn/T/ipykernel_8267/3558035866.py:4: RuntimeWarning: invalid value encountered in divide\n",
      "  return (x-y)/(x+y)\n",
      "/var/folders/68/x8klff196fl8_dk1n2t0qbtc0000gn/T/ipykernel_8267/3558035866.py:4: RuntimeWarning: invalid value encountered in divide\n",
      "  return (x-y)/(x+y)\n"
     ]
    }
   ],
   "source": [
    "folders = all_folders.copy()\n",
    "\n",
    "input = np.zeros((len(folders), 3, 120, 120))\n",
    "labels = np.zeros((len(folders), 1))\n",
    "\n",
    "for j, folder in enumerate(folders):\n",
    "    rgb, label = get_input_label(folder)\n",
    "    # print(label)\n",
    "    input[j] = rgb\n",
    "    labels[j] = label\n"
   ]
  },
  {
   "cell_type": "code",
   "execution_count": 89,
   "metadata": {},
   "outputs": [
    {
     "name": "stdout",
     "output_type": "stream",
     "text": [
      "(3324,)\n",
      "3324\n",
      "1284\n",
      "1284\n"
     ]
    }
   ],
   "source": [
    "# remove rows from label and input where label is nan or invalid (>1 or <-1)\n",
    "faulty_row = (np.isnan(labels) | (np.abs(labels)>1)).squeeze()\n",
    "print(folders.shape)\n",
    "labels_clean = labels[~faulty_row]\n",
    "input_clean = input[~faulty_row]\n",
    "folders_clean = folders[~faulty_row]\n",
    "# labels = np.clip(labels, -1, 1)\n",
    "print(len(labels))\n",
    "print(len(labels_clean))\n",
    "print(len(input_clean))\n",
    "# print(input[:3])\n",
    "# print(labels[:3])\n",
    "# print(input.shape)\n",
    "np.save(\"arrays/clean_folders.npy\",folders_clean)\n",
    "np.save(\"arrays/clean_labels.npy\",labels_clean)\n",
    "np.save(\"arrays/clean_input.npy\",input_clean)"
   ]
  },
  {
   "cell_type": "code",
   "execution_count": 98,
   "metadata": {},
   "outputs": [
    {
     "ename": "AttributeError",
     "evalue": "module 'tensorflow' has no attribute 'GraphKeys'",
     "output_type": "error",
     "traceback": [
      "\u001b[0;31m---------------------------------------------------------------------------\u001b[0m",
      "\u001b[0;31mAttributeError\u001b[0m                            Traceback (most recent call last)",
      "\u001b[1;32m/Users/lucajuliusbarbera/urban/urban-computing-project-bigearthnet/network.ipynb Cell 7\u001b[0m line \u001b[0;36m1\n\u001b[0;32m----> <a href='vscode-notebook-cell:/Users/lucajuliusbarbera/urban/urban-computing-project-bigearthnet/network.ipynb#W6sZmlsZQ%3D%3D?line=0'>1</a>\u001b[0m \u001b[39mfrom\u001b[39;00m \u001b[39mResNet50\u001b[39;00m \u001b[39mimport\u001b[39;00m DNN_model\n\u001b[1;32m      <a href='vscode-notebook-cell:/Users/lucajuliusbarbera/urban/urban-computing-project-bigearthnet/network.ipynb#W6sZmlsZQ%3D%3D?line=1'>2</a>\u001b[0m \u001b[39m# start constructing network for RGB dimension (120,120,3)\u001b[39;00m\n\u001b[1;32m      <a href='vscode-notebook-cell:/Users/lucajuliusbarbera/urban/urban-computing-project-bigearthnet/network.ipynb#W6sZmlsZQ%3D%3D?line=2'>3</a>\u001b[0m input_clean \u001b[39m=\u001b[39m input_clean\u001b[39m.\u001b[39mreshape(\u001b[39mlen\u001b[39m(input_clean),\u001b[39m120\u001b[39m,\u001b[39m120\u001b[39m,\u001b[39m3\u001b[39m)\n",
      "File \u001b[0;32m~/urban/urban-computing-project-bigearthnet/ResNet50.py:11\u001b[0m\n\u001b[1;32m      1\u001b[0m \u001b[39m# -*- coding: utf-8 -*-\u001b[39;00m\n\u001b[1;32m      2\u001b[0m \u001b[39m#\u001b[39;00m\n\u001b[1;32m      3\u001b[0m \u001b[39m# ResNet50 model definition is based on TensorFlow Slim implementation. \u001b[39;00m\n\u001b[0;32m   (...)\u001b[0m\n\u001b[1;32m      7\u001b[0m \u001b[39m# Date: 23 Dec 2019\u001b[39;00m\n\u001b[1;32m      8\u001b[0m \u001b[39m# Version: 1.0.1\u001b[39;00m\n\u001b[1;32m     10\u001b[0m \u001b[39mimport\u001b[39;00m \u001b[39mtensorflow\u001b[39;00m \u001b[39mas\u001b[39;00m \u001b[39mtf\u001b[39;00m\n\u001b[0;32m---> 11\u001b[0m \u001b[39mfrom\u001b[39;00m \u001b[39mnets\u001b[39;00m\u001b[39m.\u001b[39;00m\u001b[39mresnet_utils\u001b[39;00m \u001b[39mimport\u001b[39;00m resnet_arg_scope\n\u001b[1;32m     12\u001b[0m \u001b[39mfrom\u001b[39;00m \u001b[39mnets\u001b[39;00m\u001b[39m.\u001b[39;00m\u001b[39mresnet_v1\u001b[39;00m \u001b[39mimport\u001b[39;00m resnet_v1_50\n\u001b[1;32m     13\u001b[0m \u001b[39mfrom\u001b[39;00m \u001b[39mmodels\u001b[39;00m\u001b[39m.\u001b[39;00m\u001b[39mmain_model\u001b[39;00m \u001b[39mimport\u001b[39;00m Model\n",
      "File \u001b[0;32m~/urban/urban-computing-project-bigearthnet/nets/resnet_utils.py:231\u001b[0m\n\u001b[1;32m    219\u001b[0m     \u001b[39mraise\u001b[39;00m \u001b[39mValueError\u001b[39;00m(\u001b[39m'\u001b[39m\u001b[39mThe target output_stride cannot be reached.\u001b[39m\u001b[39m'\u001b[39m)\n\u001b[1;32m    221\u001b[0m   \u001b[39mreturn\u001b[39;00m net\n\u001b[1;32m    224\u001b[0m \u001b[39mdef\u001b[39;00m \u001b[39mresnet_arg_scope\u001b[39m(\n\u001b[1;32m    225\u001b[0m     weight_decay\u001b[39m=\u001b[39m\u001b[39m0.0001\u001b[39m,\n\u001b[1;32m    226\u001b[0m     batch_norm_decay\u001b[39m=\u001b[39m\u001b[39m0.997\u001b[39m,\n\u001b[1;32m    227\u001b[0m     batch_norm_epsilon\u001b[39m=\u001b[39m\u001b[39m1e-5\u001b[39m,\n\u001b[1;32m    228\u001b[0m     batch_norm_scale\u001b[39m=\u001b[39m\u001b[39mTrue\u001b[39;00m,\n\u001b[1;32m    229\u001b[0m     activation_fn\u001b[39m=\u001b[39mtf\u001b[39m.\u001b[39mnn\u001b[39m.\u001b[39mrelu,\n\u001b[1;32m    230\u001b[0m     use_batch_norm\u001b[39m=\u001b[39m\u001b[39mTrue\u001b[39;00m,\n\u001b[0;32m--> 231\u001b[0m     batch_norm_updates_collections\u001b[39m=\u001b[39mtf\u001b[39m.\u001b[39;49mGraphKeys\u001b[39m.\u001b[39mUPDATE_OPS):\n\u001b[1;32m    232\u001b[0m \u001b[39m  \u001b[39m\u001b[39m\"\"\"Defines the default ResNet arg scope.\u001b[39;00m\n\u001b[1;32m    233\u001b[0m \n\u001b[1;32m    234\u001b[0m \u001b[39m  TODO(gpapan): The batch-normalization related default values above are\u001b[39;00m\n\u001b[0;32m   (...)\u001b[0m\n\u001b[1;32m    253\u001b[0m \u001b[39m    An `arg_scope` to use for the resnet models.\u001b[39;00m\n\u001b[1;32m    254\u001b[0m \u001b[39m  \"\"\"\u001b[39;00m\n\u001b[1;32m    255\u001b[0m   batch_norm_params \u001b[39m=\u001b[39m {\n\u001b[1;32m    256\u001b[0m       \u001b[39m'\u001b[39m\u001b[39mdecay\u001b[39m\u001b[39m'\u001b[39m: batch_norm_decay,\n\u001b[1;32m    257\u001b[0m       \u001b[39m'\u001b[39m\u001b[39mepsilon\u001b[39m\u001b[39m'\u001b[39m: batch_norm_epsilon,\n\u001b[0;32m   (...)\u001b[0m\n\u001b[1;32m    260\u001b[0m       \u001b[39m'\u001b[39m\u001b[39mfused\u001b[39m\u001b[39m'\u001b[39m: \u001b[39mNone\u001b[39;00m,  \u001b[39m# Use fused batch norm if possible.\u001b[39;00m\n\u001b[1;32m    261\u001b[0m   }\n",
      "\u001b[0;31mAttributeError\u001b[0m: module 'tensorflow' has no attribute 'GraphKeys'"
     ]
    }
   ],
   "source": [
    "from ResNet50 import DNN_model\n",
    "# start constructing network for RGB dimension (120,120,3)\n",
    "input_clean = input_clean.reshape(len(input_clean),120,120,3)\n",
    "input_shape = input_clean.shape\n",
    "\n",
    "# Example parameters, replace with your actual values\n",
    "img_placeholder = tf.placeholder(tf.float32, input_shape)\n",
    "num_classes = 10  # Replace with your actual number of classes\n",
    "is_training = True  # Set to False for inference\n",
    "prediction_threshold = 0.5  # Set the threshold based on your needs\n",
    "\n",
    "# Instantiate the model\n",
    "model = DNN_model(img_placeholder, num_classes, is_training, prediction_threshold)\n",
    "model.create_network()"
   ]
  },
  {
   "cell_type": "code",
   "execution_count": null,
   "metadata": {},
   "outputs": [],
   "source": [
    "with tf.Session() as sess:\n",
    "    # Initialize variables\n",
    "    sess.run(tf.global_variables_initializer())\n",
    "\n",
    "    # Example input data, replace with your actual data\n",
    "    input_data = input_clean\n",
    "\n",
    "    # Run the model\n",
    "    predictions = sess.run(model.predictions, feed_dict={model.img: input_data})\n",
    "    print(\"Predictions:\", predictions)"
   ]
  }
 ],
 "metadata": {
  "kernelspec": {
   "display_name": "urban",
   "language": "python",
   "name": "python3"
  },
  "language_info": {
   "codemirror_mode": {
    "name": "ipython",
    "version": 3
   },
   "file_extension": ".py",
   "mimetype": "text/x-python",
   "name": "python",
   "nbconvert_exporter": "python",
   "pygments_lexer": "ipython3",
   "version": "3.9.18"
  }
 },
 "nbformat": 4,
 "nbformat_minor": 2
}
